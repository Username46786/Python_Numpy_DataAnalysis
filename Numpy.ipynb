{
  "nbformat": 4,
  "nbformat_minor": 0,
  "metadata": {
    "colab": {
      "provenance": []
    },
    "kernelspec": {
      "name": "python3",
      "display_name": "Python 3"
    },
    "language_info": {
      "name": "python"
    }
  },
  "cells": [
    {
      "cell_type": "code",
      "execution_count": 1,
      "metadata": {
        "id": "D7_hvcO-wu3E"
      },
      "outputs": [],
      "source": [
        "import numpy as np\n",
        "import json"
      ]
    },
    {
      "cell_type": "code",
      "source": [
        "\n",
        "with open('./data.json', 'r', encoding='utf-8') as f:\n",
        "  bmi_data = json.loads(f.read())\n",
        "\n",
        "with open('./efficiency_data.json', 'r', encoding='utf-8') as f:\n",
        "  stats_data = json.loads(f.read())"
      ],
      "metadata": {
        "id": "q9YV7DKCxi0d"
      },
      "execution_count": 4,
      "outputs": []
    },
    {
      "cell_type": "code",
      "source": [
        "lakers_height = [value for data in bmi_data[\"Lakers\"] for key, value in data.items() if key==\"Height\"]\n",
        "lakers_weight = [value for data in bmi_data[\"Lakers\"] for key, value in data.items() if key==\"Weight\"]"
      ],
      "metadata": {
        "id": "_3owKt-kxi4E"
      },
      "execution_count": 6,
      "outputs": []
    },
    {
      "cell_type": "code",
      "source": [
        "pts = [value for data in stats_data[\"Lakers\"] for key, value in data.items() if key==\"PTS\"]\n",
        "reb = [value for data in stats_data[\"Lakers\"] for key, value in data.items() if key==\"REB\"]\n",
        "ast = [value for data in stats_data[\"Lakers\"] for key, value in data.items() if key==\"AST\"]\n",
        "stl = [value for data in stats_data[\"Lakers\"] for key, value in data.items() if key==\"STL\"]\n",
        "blk = [value for data in stats_data[\"Lakers\"] for key, value in data.items() if key==\"BLK\"]\n",
        "mfg = [value for data in stats_data[\"Lakers\"] for key, value in data.items() if key==\"FGM\"]\n",
        "mft = [value for data in stats_data[\"Lakers\"] for key, value in data.items() if key==\"FTM\"]\n",
        "tov = [value for data in stats_data[\"Lakers\"] for key, value in data.items() if key==\"TO\"]"
      ],
      "metadata": {
        "id": "tCVMABzExi6l"
      },
      "execution_count": 18,
      "outputs": []
    },
    {
      "cell_type": "code",
      "source": [
        "lakers_height_array = np.array(lakers_height)\n",
        "lakers_weight_array = np.array(lakers_weight)\n",
        "pts_array = np.array(pts)\n",
        "reb_array = np.array(reb)\n",
        "ast_array = np.array(ast)\n",
        "stl_array = np.array(stl)\n",
        "blk_array = np.array(blk)\n",
        "mfg_array = np.array(mfg)\n",
        "mft_array = np.array(mft)\n",
        "tov_array = np.array(tov)\n",
        "\n"
      ],
      "metadata": {
        "id": "n98CFqD5xi9W"
      },
      "execution_count": 20,
      "outputs": []
    },
    {
      "cell_type": "code",
      "source": [
        "example_2d = [[1,1,1],[1,1,1]]\n",
        "print(np.array(example_2d))"
      ],
      "metadata": {
        "colab": {
          "base_uri": "https://localhost:8080/"
        },
        "id": "m-XyKl1gxjAb",
        "outputId": "ec69f642-dbd2-4844-f7e6-5ce3aace4934"
      },
      "execution_count": 10,
      "outputs": [
        {
          "output_type": "stream",
          "name": "stdout",
          "text": [
            "[[1 1 1]\n",
            " [1 1 1]]\n"
          ]
        }
      ]
    },
    {
      "cell_type": "code",
      "source": [
        "lakers_weight_kg = lakers_weight_array * 0.454"
      ],
      "metadata": {
        "id": "0nuj6SqJ1EpE"
      },
      "execution_count": 11,
      "outputs": []
    },
    {
      "cell_type": "code",
      "source": [
        "lakers_height_cm = lakers_height_array * 2.54"
      ],
      "metadata": {
        "id": "7a5o5tXE1Er7"
      },
      "execution_count": 12,
      "outputs": []
    },
    {
      "cell_type": "code",
      "source": [
        "def bmi_calculator(system, weight, height):\n",
        "  if system == \"imperial\":\n",
        "    BMI = weight/(height**2) * 703\n",
        "  elif system == \"metric\":\n",
        "    BMI = weight/(height**2)*10000\n",
        "  return BMI"
      ],
      "metadata": {
        "id": "Ato9qY-61Eu1"
      },
      "execution_count": 13,
      "outputs": []
    },
    {
      "cell_type": "code",
      "source": [
        "bmi_calculator(\"imperial\", lakers_weight_array, lakers_height_array)"
      ],
      "metadata": {
        "colab": {
          "base_uri": "https://localhost:8080/"
        },
        "id": "5WpRHnCx1E1I",
        "outputId": "5b0ecaf6-0312-4a60-b63e-3cb956bff0a0"
      },
      "execution_count": 14,
      "outputs": [
        {
          "output_type": "execute_result",
          "data": {
            "text/plain": [
              "array([23.74554325, 24.82894737, 24.8430309 , 26.78707514, 26.45136823])"
            ]
          },
          "metadata": {},
          "execution_count": 14
        }
      ]
    },
    {
      "cell_type": "code",
      "source": [
        "bmi_calculator(\"metric\", lakers_weight_kg, lakers_height_cm)"
      ],
      "metadata": {
        "colab": {
          "base_uri": "https://localhost:8080/"
        },
        "id": "DH2aT_JY1E37",
        "outputId": "c5813e54-cd31-4419-812c-5308baf737c5"
      },
      "execution_count": 17,
      "outputs": [
        {
          "output_type": "execute_result",
          "data": {
            "text/plain": [
              "array([23.769235  , 24.85372007, 24.86781765, 26.81380153, 26.47775968])"
            ]
          },
          "metadata": {},
          "execution_count": 17
        }
      ]
    },
    {
      "cell_type": "code",
      "source": [
        "lakers_player_efficiency = pts_array+reb_array+ast_array+stl_array+blk_array - mfg_array - mft_array - tov_array"
      ],
      "metadata": {
        "id": "Ek7cLAbM1E6O"
      },
      "execution_count": 21,
      "outputs": []
    },
    {
      "cell_type": "code",
      "source": [
        "print(lakers_player_efficiency)"
      ],
      "metadata": {
        "colab": {
          "base_uri": "https://localhost:8080/"
        },
        "id": "yBSzi3y22-Sp",
        "outputId": "5a085e80-8e5e-462b-fd98-820c8f98a557"
      },
      "execution_count": 22,
      "outputs": [
        {
          "output_type": "stream",
          "name": "stdout",
          "text": [
            "[ 791  689  411 1776 1105]\n"
          ]
        }
      ]
    },
    {
      "cell_type": "code",
      "source": [
        "print(np.sum(lakers_height_array))"
      ],
      "metadata": {
        "colab": {
          "base_uri": "https://localhost:8080/"
        },
        "id": "AV6PLISO2-Ve",
        "outputId": "74e3b12e-fb32-4f17-9c8a-96a0126fd06e"
      },
      "execution_count": 23,
      "outputs": [
        {
          "output_type": "stream",
          "name": "stdout",
          "text": [
            "390\n"
          ]
        }
      ]
    },
    {
      "cell_type": "code",
      "source": [
        "print(np.sum(lakers_weight_array))"
      ],
      "metadata": {
        "colab": {
          "base_uri": "https://localhost:8080/"
        },
        "id": "fwWIWO1u2-aQ",
        "outputId": "add451bc-6a09-4d60-81df-d2448de4b950"
      },
      "execution_count": 24,
      "outputs": [
        {
          "output_type": "stream",
          "name": "stdout",
          "text": [
            "1102\n"
          ]
        }
      ]
    },
    {
      "cell_type": "code",
      "source": [
        "print(np.average(lakers_weight_array))"
      ],
      "metadata": {
        "colab": {
          "base_uri": "https://localhost:8080/"
        },
        "id": "2FILjgan2-cz",
        "outputId": "76091278-f8bf-48c0-e013-0cd98b293880"
      },
      "execution_count": 25,
      "outputs": [
        {
          "output_type": "stream",
          "name": "stdout",
          "text": [
            "220.4\n"
          ]
        }
      ]
    },
    {
      "cell_type": "code",
      "source": [
        "print(np.average(lakers_height_array))"
      ],
      "metadata": {
        "colab": {
          "base_uri": "https://localhost:8080/"
        },
        "id": "RPCnibhq1E82",
        "outputId": "e375c6cb-e2bc-41eb-ae1d-1bf05dff312f"
      },
      "execution_count": 26,
      "outputs": [
        {
          "output_type": "stream",
          "name": "stdout",
          "text": [
            "78.0\n"
          ]
        }
      ]
    },
    {
      "cell_type": "code",
      "source": [
        "print(lakers_weight_array.min())\n",
        "print(lakers_weight_array.max())"
      ],
      "metadata": {
        "colab": {
          "base_uri": "https://localhost:8080/"
        },
        "id": "NI-mPdWn1E_q",
        "outputId": "1872a218-9e8e-4d06-f9c3-d391e49a15de"
      },
      "execution_count": 27,
      "outputs": [
        {
          "output_type": "stream",
          "name": "stdout",
          "text": [
            "180\n",
            "253\n"
          ]
        }
      ]
    },
    {
      "cell_type": "code",
      "source": [
        "print(lakers_height_array.min())\n",
        "print(lakers_height_array.max())"
      ],
      "metadata": {
        "colab": {
          "base_uri": "https://localhost:8080/"
        },
        "id": "vO5eeyXW4W11",
        "outputId": "d32e8367-703b-4f62-c23d-a658604c1225"
      },
      "execution_count": 28,
      "outputs": [
        {
          "output_type": "stream",
          "name": "stdout",
          "text": [
            "73\n",
            "82\n"
          ]
        }
      ]
    },
    {
      "cell_type": "code",
      "source": [
        "print(lakers_weight_array.std())\n",
        "print(lakers_height_array.std())"
      ],
      "metadata": {
        "colab": {
          "base_uri": "https://localhost:8080/"
        },
        "id": "TqVCgNzs4W4y",
        "outputId": "27b3a7f8-0035-45e0-c952-90759db4b574"
      },
      "execution_count": 29,
      "outputs": [
        {
          "output_type": "stream",
          "name": "stdout",
          "text": [
            "27.817979797246238\n",
            "3.286335345030997\n"
          ]
        }
      ]
    },
    {
      "cell_type": "code",
      "source": [
        "print(np.percentile(lakers_height_array, 50))\n",
        "print(np.percentile(lakers_height_array, 75))\n",
        "print(np.percentile(lakers_height_array, 90))"
      ],
      "metadata": {
        "colab": {
          "base_uri": "https://localhost:8080/"
        },
        "id": "0p33tRNl4W9m",
        "outputId": "9462a09f-d8fb-47c3-ba16-6e420546d415"
      },
      "execution_count": 30,
      "outputs": [
        {
          "output_type": "stream",
          "name": "stdout",
          "text": [
            "78.0\n",
            "81.0\n",
            "81.6\n"
          ]
        }
      ]
    },
    {
      "cell_type": "code",
      "source": [
        "print(np.percentile(lakers_weight_array, 50))\n",
        "print(np.percentile(lakers_weight_array, 75))\n",
        "print(np.percentile(lakers_weight_array, 90))"
      ],
      "metadata": {
        "colab": {
          "base_uri": "https://localhost:8080/"
        },
        "id": "NLM9jxtO4XAg",
        "outputId": "4c2aa239-6e72-4375-d6e8-ecde86f96a9d"
      },
      "execution_count": 31,
      "outputs": [
        {
          "output_type": "stream",
          "name": "stdout",
          "text": [
            "215.0\n",
            "250.0\n",
            "251.8\n"
          ]
        }
      ]
    },
    {
      "cell_type": "code",
      "source": [],
      "metadata": {
        "id": "MqHY2XQO4_wQ"
      },
      "execution_count": null,
      "outputs": []
    },
    {
      "cell_type": "code",
      "source": [],
      "metadata": {
        "id": "h6Cn8_t14_y6"
      },
      "execution_count": null,
      "outputs": []
    },
    {
      "cell_type": "code",
      "source": [],
      "metadata": {
        "id": "hneYCwN64_1l"
      },
      "execution_count": null,
      "outputs": []
    },
    {
      "cell_type": "code",
      "source": [],
      "metadata": {
        "id": "Fz50LN124_3r"
      },
      "execution_count": null,
      "outputs": []
    }
  ]
}